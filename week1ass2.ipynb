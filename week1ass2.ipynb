{
  "nbformat": 4,
  "nbformat_minor": 0,
  "metadata": {
    "colab": {
      "provenance": []
    },
    "kernelspec": {
      "name": "python3",
      "display_name": "Python 3"
    },
    "language_info": {
      "name": "python"
    }
  },
  "cells": [
    {
      "cell_type": "code",
      "execution_count": 1,
      "metadata": {
        "colab": {
          "base_uri": "https://localhost:8080/"
        },
        "id": "1LDbTfO_aXTn",
        "outputId": "d6a53328-ac64-41ae-e9f2-7c122add5f00"
      },
      "outputs": [
        {
          "output_type": "stream",
          "name": "stdout",
          "text": [
            "0\n",
            "1\n",
            "3\n",
            "2\n",
            "4\n",
            "5\n"
          ]
        }
      ],
      "source": [
        "from collections import deque\n",
        "def bfs(graph, start):\n",
        "  visited=set()\n",
        "  queue=deque([start])\n",
        "  while queue:\n",
        "     vertex=queue.popleft()\n",
        "     if vertex not in visited:\n",
        "        visited.add(vertex)\n",
        "        print(vertex)\n",
        "        queue.extend(graph[vertex]-visited)\n",
        "graph = {\n",
        "     0: set([1,3]),\n",
        "     1: set([0,2,3]),\n",
        "     2: set([1,4,5]),\n",
        "     3: set([0,1,4]),\n",
        "     4: set([2,3,5]),\n",
        "     5: set([2,4])\n",
        "}\n",
        "bfs(graph,0)"
      ]
    },
    {
      "cell_type": "code",
      "source": [
        "initial_state = [\n",
        "    [2, 8, 3],\n",
        "    [1, 6, 4],\n",
        "    [7, 0, 5]\n",
        "]\n",
        "goal_state = [\n",
        "    [1, 2, 3],\n",
        "    [8, 0, 4],\n",
        "    [7, 6, 5]\n",
        "]\n",
        "def heuristic(state):\n",
        "    distance = 0\n",
        "    for i in range(3):\n",
        "        for j in range(3):\n",
        "            if state[i][j] != 0:\n",
        "                row_goal, col_goal = divmod(state[i][j] - 1, 3)\n",
        "                distance += abs(i - row_goal) + abs(j - col_goal)\n",
        "    return distance\n",
        "h_value = heuristic(initial_state)\n",
        "print(\"Heuristic value for the initial state:\", h_value)\n",
        "h_value_goal = heuristic(goal_state)\n",
        "print(\"Heuristic value for the goal state:\", h_value_goal)"
      ],
      "metadata": {
        "colab": {
          "base_uri": "https://localhost:8080/"
        },
        "id": "TaFPhFBAaasJ",
        "outputId": "6ed96825-4433-47c8-d5ba-1e31a19a62bc"
      },
      "execution_count": 2,
      "outputs": [
        {
          "output_type": "stream",
          "name": "stdout",
          "text": [
            "Heuristic value for the initial state: 9\n",
            "Heuristic value for the goal state: 8\n"
          ]
        }
      ]
    }
  ]
}