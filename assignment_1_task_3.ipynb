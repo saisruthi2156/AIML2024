{
  "nbformat": 4,
  "nbformat_minor": 0,
  "metadata": {
    "colab": {
      "provenance": []
    },
    "kernelspec": {
      "name": "python3",
      "display_name": "Python 3"
    },
    "language_info": {
      "name": "python"
    }
  },
  "cells": [
    {
      "cell_type": "code",
      "execution_count": 1,
      "metadata": {
        "colab": {
          "base_uri": "https://localhost:8080/"
        },
        "id": "bDSUnWqr_aPX",
        "outputId": "01b0960a-a22a-48d5-cf3c-6b760318a648"
      },
      "outputs": [
        {
          "output_type": "stream",
          "name": "stdout",
          "text": [
            "   Table 1 Unnamed: 1  Unnamed: 2 Unnamed: 3\n",
            "0    Name        Age        Ht no      Place\n",
            "1   sruthi         20  2203A52126  Huzurabad\n",
            "2      uma         19  2203A52127     Ambala\n",
            "3   sumana         20  2203A52227   Indurthi\n",
            "4   thanvi         21  2203A52076     Parkal\n",
            "5  sravani         19  2203A52099   Warangal\n",
            "            Name   Age        Ht no      Place  Unnamed: 4  Unnamed: 5\n",
            "0       RajaRohan    19  2203A52126  Huzurabad         NaN         NaN\n",
            "1  Vamshi krishna    19  2203A52127     Ambala         NaN         NaN\n",
            "2         Avinash    19  2203A52227   Indurthi         NaN         NaN\n",
            "3    Gopi krishna    21  2203A52076     Parkal         NaN         NaN\n",
            "4          Sravan    19  2203A52099   Warangal         NaN         NaN\n",
            "Empty DataFrame\n",
            "Columns: [Unnamed: 0, Unnamed: 1]\n",
            "Index: []\n",
            "\n",
            "Data from URL:\n",
            "            Name   Age        Ht no      Place  Unnamed: 4  Unnamed: 5\n",
            "0       RajaRohan    19  2203A52126  Huzurabad         NaN         NaN\n",
            "1  Vamshi krishna    19  2203A52127     Ambala         NaN         NaN\n",
            "2         Avinash    19  2203A52227   Indurthi         NaN         NaN\n",
            "3    Gopi krishna    21  2203A52076     Parkal         NaN         NaN\n",
            "4          Sravan    19  2203A52099   Warangal         NaN         NaN\n"
          ]
        }
      ],
      "source": [
        "import pandas as pd\n",
        "\n",
        "# Read Excel file\n",
        "data_excel = pd.read_excel('/content/haha3(1).xlsx')\n",
        "\n",
        "# Read CSV file\n",
        "data_csv = pd.read_csv('/content/haha.csv')\n",
        "\n",
        "# Read TSV file (Tab-separated values)\n",
        "data_tsv = pd.read_csv('/content/haha2[1].tsv', sep='\\t')\n",
        "\n",
        "print(data_excel)\n",
        "print(data_csv)\n",
        "print(data_tsv)\n",
        "\n",
        "# Read data from URL\n",
        "url = 'https://raw.githubusercontent.com/rajarohan/Aiml/main/haha.csv'\n",
        "df_url = pd.read_csv(url)\n",
        "print(\"\\nData from URL:\")\n",
        "print(df_url)"
      ]
    }
  ]
}